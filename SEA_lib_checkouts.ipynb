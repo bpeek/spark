{
 "cells": [
  {
   "cell_type": "code",
   "execution_count": 1,
   "metadata": {
    "collapsed": true
   },
   "outputs": [],
   "source": [
    "/* this is code for a project using the Seattle Library Checkout data from Kaggle\n",
    "https://www.kaggle.com/seattle-public-library/seattle-library-checkout-records/data\n",
    "*/\n",
    "\n",
    "val c2015 = spark.read.option(\"inferSchema\",\"true\").option(\"header\",\"true\").csv(\"file:///data/checkout2015\")\n",
    "val c2016 = spark.read.option(\"inferSchema\",\"true\").option(\"header\",\"true\").csv(\"file:///data/checkout2016\")\n",
    "val c2017 = spark.read.option(\"inferSchema\",\"true\").option(\"header\",\"true\").csv(\"file:///data/checkout2017\")\n",
    "val ils = spark.read.option(\"inferSchema\",\"true\").option(\"header\",\"true\").csv(\"file:///data/ILS_data_dict\")\n",
    "val inventory = spark.read.option(\"inferSchema\",\"true\").option(\"header\",\"true\").csv(\"file:///data/lib_collection_inv\")\n",
    "\n",
    "val c2015DF = c2015.toDF\n",
    "val c2016DF = c2016.toDF\n",
    "val c2017DF = c2017.toDF\n",
    "val ilsDF = ils.toDF\n",
    "val invDF = inventory.toDF\n",
    "\n",
    "val cDF = c2017DF.union(c2016DF).union(c2015DF)\n",
    "\n",
    "ilsDF.createOrReplaceTempView(\"ilsDF\")\n",
    "invDF.createOrReplaceTempView(\"invDF\")\n",
    "cDF.createOrReplaceTempView(\"cDF\")"
   ]
  },
  {
   "cell_type": "code",
   "execution_count": 2,
   "metadata": {
    "collapsed": true
   },
   "outputs": [],
   "source": [
    "/*join the inventory data (eg: title, author, etc.) to the checkout table */\n",
    "val cInvDF = spark.sql(\"SELECT a.*, b.Title, b.Author, b.PublicationYear, b.Subjects FROM cDF a join invDF b on a.BibNumber = b.BibNum\")"
   ]
  },
  {
   "cell_type": "code",
   "execution_count": 3,
   "metadata": {},
   "outputs": [
    {
     "name": "stdout",
     "output_type": "stream",
     "text": [
      "root\n",
      " |-- BibNumber: integer (nullable = true)\n",
      " |-- ItemBarcode: long (nullable = true)\n",
      " |-- ItemType: string (nullable = true)\n",
      " |-- Collection: string (nullable = true)\n",
      " |-- CallNumber: string (nullable = true)\n",
      " |-- CheckoutDateTime: string (nullable = true)\n",
      " |-- Title: string (nullable = true)\n",
      " |-- Author: string (nullable = true)\n",
      " |-- PublicationYear: string (nullable = true)\n",
      " |-- Subjects: string (nullable = true)\n",
      "\n"
     ]
    }
   ],
   "source": [
    "cInvDF.printSchema\n"
   ]
  },
  {
   "cell_type": "code",
   "execution_count": 3,
   "metadata": {
    "collapsed": true
   },
   "outputs": [],
   "source": [
    "cInvDF.createOrReplaceTempView(\"cInvDF\")"
   ]
  },
  {
   "cell_type": "code",
   "execution_count": 4,
   "metadata": {
    "collapsed": true
   },
   "outputs": [],
   "source": [
    "/* join format data onto main table */\n",
    "val allDF = spark.sql(\"SELECT a.*, b.* FROM cInvDF a left join ilsDF b ON a.ItemType = b.Code\")"
   ]
  },
  {
   "cell_type": "code",
   "execution_count": 5,
   "metadata": {},
   "outputs": [
    {
     "data": {
      "text/plain": [
       "17647914"
      ]
     },
     "execution_count": 5,
     "metadata": {},
     "output_type": "execute_result"
    }
   ],
   "source": [
    "/* filter out duplicates because the joins created a lot of them for some reason */\n",
    "val allDFDistinct = allDF.distinct\n",
    "allDFDistinct.count"
   ]
  },
  {
   "cell_type": "code",
   "execution_count": 7,
   "metadata": {},
   "outputs": [
    {
     "name": "stdout",
     "output_type": "stream",
     "text": [
      "root\n",
      " |-- BibNumber: integer (nullable = true)\n",
      " |-- ItemBarcode: long (nullable = true)\n",
      " |-- ItemType: string (nullable = true)\n",
      " |-- Collection: string (nullable = true)\n",
      " |-- CallNumber: string (nullable = true)\n",
      " |-- CheckoutDateTime: string (nullable = true)\n",
      " |-- Title: string (nullable = true)\n",
      " |-- Author: string (nullable = true)\n",
      " |-- PublicationYear: string (nullable = true)\n",
      " |-- Subjects: string (nullable = true)\n",
      " |-- Code: string (nullable = true)\n",
      " |-- Description: string (nullable = true)\n",
      " |-- Code Type: string (nullable = true)\n",
      " |-- Format Group: string (nullable = true)\n",
      " |-- Format Subgroup: string (nullable = true)\n",
      " |-- Category Group: string (nullable = true)\n",
      " |-- Category Subgroup: string (nullable = true)\n",
      "\n"
     ]
    }
   ],
   "source": [
    "allDFDistinct.printSchema"
   ]
  },
  {
   "cell_type": "code",
   "execution_count": 6,
   "metadata": {
    "collapsed": true
   },
   "outputs": [],
   "source": [
    "allDFDistinct.createOrReplaceTempView(\"allDFDistinct\")"
   ]
  },
  {
   "cell_type": "code",
   "execution_count": 10,
   "metadata": {},
   "outputs": [
    {
     "name": "stdout",
     "output_type": "stream",
     "text": [
      "+---------------+--------+\n",
      "|Format Subgroup|count(1)|\n",
      "+---------------+--------+\n",
      "|     Periodical|      16|\n",
      "|            Kit|    1948|\n",
      "|            Art|       2|\n",
      "|           null|   49469|\n",
      "|           Book|10565380|\n",
      "|      Data Disc|      19|\n",
      "|     Audio Tape|      18|\n",
      "| Audiobook Disc|      19|\n",
      "|     Video Disc| 5136268|\n",
      "|     Audio Disc| 1873157|\n",
      "|    Music Score|   21618|\n",
      "+---------------+--------+\n",
      "\n"
     ]
    }
   ],
   "source": [
    "/* checkout the format groups */\n",
    "spark.sql(\"SELECT `Format Subgroup`, count(*) from allDFDistinct GROUP BY `Format Subgroup`\").show()"
   ]
  },
  {
   "cell_type": "code",
   "execution_count": 7,
   "metadata": {
    "collapsed": true
   },
   "outputs": [],
   "source": [
    "/* create year, month, and day columns from the checkoutDateTime variable */\n",
    "val master = spark.sql(\"\"\"SELECT *, \n",
    "                        SUBSTRING(CheckoutDateTime,3,2) as checkout_day,\n",
    "                        SUBSTRING(CheckoutDateTime,0,2) as checkout_month,\n",
    "                        SUBSTRING(CheckoutDateTime,7,4) as checkout_year\n",
    "                        from allDFDistinct\"\"\")"
   ]
  },
  {
   "cell_type": "code",
   "execution_count": 8,
   "metadata": {},
   "outputs": [
    {
     "name": "stdout",
     "output_type": "stream",
     "text": [
      "root\n",
      " |-- BibNumber: integer (nullable = true)\n",
      " |-- ItemBarcode: long (nullable = true)\n",
      " |-- ItemType: string (nullable = true)\n",
      " |-- Collection: string (nullable = true)\n",
      " |-- CallNumber: string (nullable = true)\n",
      " |-- CheckoutDateTime: string (nullable = true)\n",
      " |-- Title: string (nullable = true)\n",
      " |-- Author: string (nullable = true)\n",
      " |-- PublicationYear: string (nullable = true)\n",
      " |-- Subjects: string (nullable = true)\n",
      " |-- Code: string (nullable = true)\n",
      " |-- Description: string (nullable = true)\n",
      " |-- Code Type: string (nullable = true)\n",
      " |-- Format Group: string (nullable = true)\n",
      " |-- Format Subgroup: string (nullable = true)\n",
      " |-- Category Group: string (nullable = true)\n",
      " |-- Category Subgroup: string (nullable = true)\n",
      " |-- checkout_day: string (nullable = true)\n",
      " |-- checkout_month: string (nullable = true)\n",
      " |-- checkout_year: string (nullable = true)\n",
      "\n"
     ]
    }
   ],
   "source": [
    "master.createOrReplaceTempView(\"master\")\n",
    "master.printSchema"
   ]
  },
  {
   "cell_type": "code",
   "execution_count": 13,
   "metadata": {},
   "outputs": [
    {
     "name": "stdout",
     "output_type": "stream",
     "text": [
      "+-------------+--------------+\n",
      "|checkout_year|checkout_month|\n",
      "+-------------+--------------+\n",
      "|         2015|            09|\n",
      "|         2016|            05|\n",
      "|         2017|            08|\n",
      "|         2015|            11|\n",
      "|         2017|            01|\n",
      "|         2016|            04|\n",
      "|         2015|            07|\n",
      "|         2015|            05|\n",
      "|         2017|            07|\n",
      "|         2016|            07|\n",
      "|         2017|            05|\n",
      "|         2016|            06|\n",
      "|         2017|            09|\n",
      "|         2015|            08|\n",
      "|         2015|            02|\n",
      "|         2016|            02|\n",
      "|         2016|            03|\n",
      "|         2015|            06|\n",
      "|         2017|            04|\n",
      "|         2015|            10|\n",
      "|         2015|            03|\n",
      "|         2016|            12|\n",
      "|         2015|            04|\n",
      "|         2017|            02|\n",
      "|         2017|            03|\n",
      "|         2016|            08|\n",
      "|         2016|            10|\n",
      "|         2016|            11|\n",
      "|         2015|            12|\n",
      "|         2015|            01|\n",
      "|         2016|            09|\n",
      "|         2017|            10|\n",
      "|         2017|            06|\n",
      "|         2016|            01|\n",
      "+-------------+--------------+\n",
      "\n"
     ]
    }
   ],
   "source": [
    "/* check that the years and months were created correctly */\n",
    "spark.sql(\"select distinct checkout_year, checkout_month from master\").show(50)"
   ]
  },
  {
   "cell_type": "code",
   "execution_count": 14,
   "metadata": {},
   "outputs": [
    {
     "name": "stdout",
     "output_type": "stream",
     "text": [
      "+--------+\n",
      "|itemtype|\n",
      "+--------+\n",
      "|   jcdvd|\n",
      "|   acart|\n",
      "|    bccd|\n",
      "|   arkit|\n",
      "|  ucunkn|\n",
      "|   ackit|\n",
      "|  areqnh|\n",
      "|    bcbk|\n",
      "|  aceqnh|\n",
      "|    accd|\n",
      "|    ahbk|\n",
      "| ucunknj|\n",
      "|   accas|\n",
      "|   acpam|\n",
      "|   acmap|\n",
      "|   bcdvd|\n",
      "|   acdvd|\n",
      "| alaptop|\n",
      "|    acbk|\n",
      "|   acper|\n",
      "|    jrbk|\n",
      "|   ardvd|\n",
      "|   jccas|\n",
      "|   acmus|\n",
      "|  pkbknh|\n",
      "|  ucfold|\n",
      "| accdrom|\n",
      "|    arbk|\n",
      "| atablet|\n",
      "|    areq|\n",
      "|    aceq|\n",
      "|   arper|\n",
      "|   jcmus|\n",
      "|    jcbk|\n",
      "|   jckit|\n",
      "|    arcd|\n",
      "|    jccd|\n",
      "|  dcillb|\n",
      "+--------+\n",
      "\n"
     ]
    }
   ],
   "source": [
    "/* I thought it might be interesting to see the breakdown of checkouts by ItemType but it isn't the type of info I thought\n",
    "it would be. It turns out Category Groups and Subgroups are closer to what I was looking for */\n",
    "spark.sql(\"SELECT DISTINCT itemtype FROM master\").show(50)"
   ]
  },
  {
   "cell_type": "code",
   "execution_count": 15,
   "metadata": {},
   "outputs": [
    {
     "name": "stdout",
     "output_type": "stream",
     "text": [
      "\r",
      "                                                                                \r",
      "+---------------+-------+\n",
      "|PublicationYear|  count|\n",
      "+---------------+-------+\n",
      "|         [2015]|1677762|\n",
      "|         [2014]|1326865|\n",
      "|         [2016]|1176306|\n",
      "|          2015.| 832729|\n",
      "|          2014.| 714396|\n",
      "|          2013.| 637012|\n",
      "|          2016.| 592245|\n",
      "|          2012.| 560918|\n",
      "|         [2013]| 482614|\n",
      "|         c2012.| 476802|\n",
      "|          2011.| 475915|\n",
      "|         c2013.| 397488|\n",
      "|         [2017]| 383794|\n",
      "|          2010.| 376678|\n",
      "|         c2011.| 325003|\n",
      "|         c2010.| 286208|\n",
      "|          2009.| 266003|\n",
      "|         c2009.| 248512|\n",
      "|          2008.| 230569|\n",
      "|         c2008.| 188489|\n",
      "|          2017.| 184481|\n",
      "|          2007.| 179156|\n",
      "|          2006.| 153095|\n",
      "|         c2007.| 143783|\n",
      "|         c2014.| 143347|\n",
      "|         p2013.| 134306|\n",
      "|          2005.| 127170|\n",
      "|         c2015.| 122302|\n",
      "|         c2006.| 117126|\n",
      "|         [2012]| 115549|\n",
      "|         p2012.| 110835|\n",
      "|         p2011.|  97719|\n",
      "|         c2005.|  97561|\n",
      "|         c2004.|  96773|\n",
      "|          2004.|  94378|\n",
      "|         c2003.|  90106|\n",
      "|         [2010]|  89387|\n",
      "|         [2011]|  88508|\n",
      "|         p2014.|  85725|\n",
      "|          2003.|  84190|\n",
      "|         p2010.|  82950|\n",
      "|         [2009]|  79662|\n",
      "|         p2009.|  77252|\n",
      "|         [2007]|  75801|\n",
      "|         [2006]|  75258|\n",
      "|          2002.|  71241|\n",
      "|         [2008]|  65945|\n",
      "|         c2002.|  65554|\n",
      "|          2001.|  64993|\n",
      "|          2000.|  60161|\n",
      "+---------------+-------+\n",
      "only showing top 50 rows\n",
      "\n"
     ]
    }
   ],
   "source": [
    "/*I thought about looking at popularity of new vs old books and unsurprisingly newer books are much more popular but \n",
    "I couldn't figure out how to strip the non-numeric characters out of the column to get a clean read\n",
    "This will be something to explore later*/\n",
    "spark.sql(\"SELECT PublicationYear, count(*) as count from master GROUP BY PublicationYear ORDER BY count DESC\").show(50)"
   ]
  },
  {
   "cell_type": "code",
   "execution_count": 16,
   "metadata": {},
   "outputs": [
    {
     "name": "stdout",
     "output_type": "stream",
     "text": [
      "+----------------------------------------------------------------------------------------------------+-----+\n",
      "|                                                                                               title|count|\n",
      "+----------------------------------------------------------------------------------------------------+-----+\n",
      "|Gone girl [videorecording] / Twentieth Century Fox ; Regency ; produced by Arnon Milchan, Reese W...| 4375|\n",
      "|The imitation game [videorecording] / The Weinstein Company ; Black Bear Pictures ; a Bristol Aut...| 4235|\n",
      "|Boyhood [videorecording] / IFC Films ; IFC Productions ; a Detour FilmProduction ; producers, Jon...| 4052|\n",
      "|Birdman, or (the unexpected virtue of ignorance) [videorecording] / Fox Searchlight Pictures ; Re...| 4029|\n",
      "|The theory of everything [videorecording] / Focus Features ; Working Title ; directed by James Ma...| 3716|\n",
      "|Interstellar [videorecording] / Paramount Pictures ; Warner Bros. Pictures ; Legendary Pictures ;...| 3489|\n",
      "|The Grand Budapest Hotel [videorecording] / Fox Searchlight Pictures in association with Indian P...| 3400|\n",
      "|Whiplash [videorecording] / Sony Pictures Classics ; Bold Films ; BH Productions ; Right of Way F...| 3398|\n",
      "|Guardians of the galaxy [videorecording] / Marvel Studios ; produced by Kevin Feige ; written by ...| 3366|\n",
      "|Big Hero 6 [videorecording] / Disney ; Walt Disney Animation Studios ; screenplay by Jordan Rober...| 3129|\n",
      "+----------------------------------------------------------------------------------------------------+-----+\n",
      "only showing top 10 rows\n",
      "\n",
      "+----------------------------------------------------------------------------------------------------+-----+\n",
      "|                                                                                               title|count|\n",
      "+----------------------------------------------------------------------------------------------------+-----+\n",
      "|The Martian [videorecording] / Twentieth Century Fox ; TSG Entertainment ; a Scott Free/Kinberg G...| 4137|\n",
      "|Bridge of spies [videorecording] / Touchstone Pictures ; Dreamworks Pictures ; 20th Century Fox ;...| 3741|\n",
      "|The big short [videorecording] / Paramount Pictures ; Regency Enterprises ; Plan B ; produced by ...| 3577|\n",
      "|Spotlight [videorecording] / directed by Tom McCarthy ; written by Josh Singer & Tom McCarthy ; p...| 3358|\n",
      "|Inside out [videorecording] / Disney ; Pixar Animation Studios ; story by Pete Docter, Ronine del...| 3329|\n",
      "|SPECTRE [videorecording] / Metro Goldwyn Mayer ; Columbia ; Albert R. Broccoli's Eon Productions ...| 3145|\n",
      "|Brooklyn [videorecording] / Fox Searchlight Pictures with BBC Films, Telefilm Canada, Bord Scanná...| 2978|\n",
      "|Trainwreck [videorecording] / Universal Pictures ; directed by Judd Apatow ; written by Amy Schum...| 2925|\n",
      "|Jurassic world [videorecording] / Universal Pictures and Amblin Entertainment ; in association wi...| 2755|\n",
      "|Mission: Impossible. Rogue nation [videorecording] / Paramount Pictures ; Skydance Productions ; ...| 2705|\n",
      "+----------------------------------------------------------------------------------------------------+-----+\n",
      "only showing top 10 rows\n",
      "\n",
      "+----------------------------------------------------------------------------------------------------+-----+\n",
      "|                                                                                               title|count|\n",
      "+----------------------------------------------------------------------------------------------------+-----+\n",
      "|Arrival / Paramount Pictures ; Filmnation Entertainment ; Lava Bear ; 21 Laps Entertainment ; pro...| 3011|\n",
      "|Moonlight / A24 ; Plan B ; Pastel ; produced by Adele Romanski, Dede Gardner, Jeremy Kleiner ; sc...| 2448|\n",
      "|Sully [videorecording] / Warner Bros. Pictures ; in association with Village Roadshow Pictures ; ...| 2327|\n",
      "|Manchester by the Sea / Lionsgate ; Amazon Studios ; a Pearl Street Films, The Media Farm, K Peri...| 2322|\n",
      "|Hidden figures / 20th Century Fox ; Fox 2000 Pictures ; a Chernin Entertainment/Levantine Films p...| 2320|\n",
      "|Finding Dory [videorecording] / Walt Disney Pictures ; Pixar Animation Studios ; directed by Andr...| 2265|\n",
      "|The secret life of pets [videorecording] / Universal ; Illumination Entertainment ; producers, Ch...| 2159|\n",
      "|The girl on the train / Dreamworks Pictures and Reliance Entertainment ; produced by Marc Platt, ...| 2126|\n",
      "|Moana / Disney ; Walt Disney Animation Studios ; produced by Osnat Shurer ; screenplay by Jared B...| 2117|\n",
      "|Jason Bourne [videorecording] / Universal Pictures ; in association with Perfect World Pictures ;...| 2083|\n",
      "+----------------------------------------------------------------------------------------------------+-----+\n",
      "only showing top 10 rows\n",
      "\n"
     ]
    }
   ],
   "source": [
    "/* something I would have liked to do given more time is split this title string into title, studio, producer,\n",
    "etc. all in their own column instead of a clumsy string of info crammed under the \"title\" column. This is probably\n",
    "a result of having a bunch of media types in the same table. By breaking this information out we would either need\n",
    "to tolerate a lot of missing values (eg: no books would have studios or producers) or break the info into a bunch of\n",
    "separate tables*/\n",
    "\n",
    "/* find top 10 movies in each year */\n",
    "spark.sql(\"SELECT title, count(*) as count from master WHERE `Format Subgroup`='Video Disc' and checkout_year='2015' GROUP BY title ORDER BY count DESC \").show(10, 100)\n",
    "spark.sql(\"SELECT title, count(*) as count from master WHERE `Format Subgroup`='Video Disc' and checkout_year='2016' GROUP BY title ORDER BY count DESC \").show(10, 100)\n",
    "spark.sql(\"SELECT title, count(*) as count from master WHERE `Format Subgroup`='Video Disc' and checkout_year='2017' GROUP BY title ORDER BY count DESC \").show(10, 100)"
   ]
  },
  {
   "cell_type": "code",
   "execution_count": 17,
   "metadata": {},
   "outputs": [
    {
     "data": {
      "text/plain": [
       "Name: Syntax Error.\n",
       "Message: \n",
       "StackTrace: "
      ]
     },
     "execution_count": 17,
     "metadata": {},
     "output_type": "execute_result"
    }
   ],
   "source": [
    "/*\n",
    "it looks like the top 10 movies from 2015 accounted for more checkouts than the top 10 movies in 2016 or 2017.\n",
    "is this because people checked out fewer movies overall or that the distribution of movie checkouts was different.\n",
    "Count the total number of checkouts by year where format subgroup is video disc\n",
    "*/"
   ]
  },
  {
   "cell_type": "code",
   "execution_count": 18,
   "metadata": {},
   "outputs": [
    {
     "name": "stdout",
     "output_type": "stream",
     "text": [
      "\r",
      "                                                                                \r",
      "+-------------+-------+\n",
      "|checkout_year|  count|\n",
      "+-------------+-------+\n",
      "|         2015|1928984|\n",
      "|         2016|1837241|\n",
      "|         2017|1370043|\n",
      "+-------------+-------+\n",
      "\n"
     ]
    }
   ],
   "source": [
    "/* find total movie checkouts by year to see what proportion is accounted for by the top 10 */\n",
    "\n",
    "spark.sql(\"\"\"SELECT checkout_year, count(*) as count FROM master\n",
    "           WHERE `Format Subgroup`='Video Disc' \n",
    "           GROUP BY checkout_year\n",
    "           ORDER BY checkout_year\"\"\").show()"
   ]
  },
  {
   "cell_type": "code",
   "execution_count": 19,
   "metadata": {},
   "outputs": [
    {
     "data": {
      "text/plain": [
       "Name: Syntax Error.\n",
       "Message: \n",
       "StackTrace: "
      ]
     },
     "execution_count": 19,
     "metadata": {},
     "output_type": "execute_result"
    }
   ],
   "source": [
    "/* video discs are becoming less popular over the period and the proportion of checkouts covered by the top 10 movies is\n",
    "staying relatively stable with the top 10 accounting for 19% in 2015, 18% in 2016, and 17% in 2017\n",
    "*/"
   ]
  },
  {
   "cell_type": "code",
   "execution_count": 20,
   "metadata": {},
   "outputs": [
    {
     "name": "stdout",
     "output_type": "stream",
     "text": [
      "+----------------------------------------------------------------------------------------------------+-----+\n",
      "|                                                                                               title|count|\n",
      "+----------------------------------------------------------------------------------------------------+-----+\n",
      "|                                                              The girl on the train / Paula Hawkins.| 3333|\n",
      "|                                              All the light we cannot see : a novel / Anthony Doerr.| 2670|\n",
      "|The life-changing magic of tidying up : the Japanese art of decluttering and organizing / Marie K...| 2424|\n",
      "|                                 Being mortal : medicine and what matters in the end / Atul Gawande.| 2025|\n",
      "|                                                                           Yes please / Amy Poehler.| 1639|\n",
      "|The boys in the boat : nine Americans and their epic quest for gold at the 1936 Berlin Olympics /...| 1560|\n",
      "|                                                                     Go set a watchman / Harper Lee.| 1494|\n",
      "|                                       Dead wake : the last crossing of the Lusitania / Erik Larson.| 1445|\n",
      "|                                                                   The nightingale / Kristin Hannah.| 1400|\n",
      "|                                                                   The paying guests / Sarah Waters.| 1364|\n",
      "+----------------------------------------------------------------------------------------------------+-----+\n",
      "only showing top 10 rows\n",
      "\n",
      "+----------------------------------------------------------------------------------------------------+-----+\n",
      "|                                                                                               title|count|\n",
      "+----------------------------------------------------------------------------------------------------+-----+\n",
      "|                                                              The girl on the train / Paula Hawkins.| 2676|\n",
      "|                                                        Between the world and me / Ta-Nehisi Coates.| 2414|\n",
      "|                            When breath becomes air / Paul Kalanithi ; foreword by Abraham Verghese.| 2338|\n",
      "|                                                                    Fates and furies / Lauren Groff.| 2224|\n",
      "|                                              All the light we cannot see : a novel / Anthony Doerr.| 2082|\n",
      "|The life-changing magic of tidying up : the Japanese art of decluttering and organizing / Marie K...| 1803|\n",
      "|                                                                   The nightingale / Kristin Hannah.| 1592|\n",
      "|                                 Being mortal : medicine and what matters in the end / Atul Gawande.| 1592|\n",
      "|                                                My name is Lucy Barton : a novel / Elizabeth Strout.| 1457|\n",
      "|                                                               Pigs make me sneeze! / by Mo Willems.| 1381|\n",
      "+----------------------------------------------------------------------------------------------------+-----+\n",
      "only showing top 10 rows\n",
      "\n",
      "+--------------------------------------------------------------------------------------------------+-----+\n",
      "|                                                                                             title|count|\n",
      "+--------------------------------------------------------------------------------------------------+-----+\n",
      "|                        Hillbilly elegy : a memoir of a family and culture in crisis / J.D. Vance.| 2865|\n",
      "|                                            The Underground Railroad : a novel / Colson Whitehead.| 2171|\n",
      "|                                                 Today will be different : a novel / Maria Semple.| 1708|\n",
      "|                                                            Commonwealth : a novel / Ann Patchett.| 1573|\n",
      "|                                                              Moonglow : a novel / Michael Chabon.| 1230|\n",
      "|                              Born a crime : stories from a South African childhood / Trevor Noah.| 1179|\n",
      "|Strangers in their own land : anger and mourning on the American right / Arlie Russell Hochschild.| 1136|\n",
      "|                                                                     The trespasser / Tana French.| 1124|\n",
      "|                                           The wrong side of goodbye : a novel / Michael Connelly.| 1114|\n",
      "|                                                      Between the world and me / Ta-Nehisi Coates.| 1035|\n",
      "+--------------------------------------------------------------------------------------------------+-----+\n",
      "only showing top 10 rows\n",
      "\n"
     ]
    },
    {
     "data": {
      "text/plain": [
       "Name: Syntax Error.\n",
       "Message: \n",
       "StackTrace: "
      ]
     },
     "execution_count": 20,
     "metadata": {},
     "output_type": "execute_result"
    }
   ],
   "source": [
    "/* find the top 10 most popular books for each year*/\n",
    "spark.sql(\"\"\"SELECT title, count(*) as count from master \n",
    "           WHERE `Format Subgroup`='Book' and checkout_year='2015' \n",
    "           GROUP BY title \n",
    "           ORDER BY count DESC\"\"\").show(10, 100)\n",
    "\n",
    "spark.sql(\"\"\"SELECT title, count(*) as count from master \n",
    "             WHERE `Format Subgroup`='Book' and checkout_year='2016' \n",
    "             GROUP BY title \n",
    "             ORDER BY count DESC \"\"\").show(10, 100)\n",
    "\n",
    "spark.sql(\"\"\"SELECT title, count(*) as count from master \n",
    "             WHERE `Format Subgroup`='Book' and checkout_year='2017' \n",
    "             GROUP BY title \n",
    "             ORDER BY count DESC \"\"\").show(10, 100)\n",
    "/* similar to the movies, I would like to split the title column up into title, author, etc. to make it easier to \n",
    "do more fun and interesting data pestering. Tell me your secrets library!!!!!*/"
   ]
  },
  {
   "cell_type": "code",
   "execution_count": 21,
   "metadata": {},
   "outputs": [
    {
     "name": "stdout",
     "output_type": "stream",
     "text": [
      "root\n",
      " |-- BibNumber: integer (nullable = true)\n",
      " |-- ItemBarcode: long (nullable = true)\n",
      " |-- ItemType: string (nullable = true)\n",
      " |-- Collection: string (nullable = true)\n",
      " |-- CallNumber: string (nullable = true)\n",
      " |-- CheckoutDateTime: string (nullable = true)\n",
      " |-- Title: string (nullable = true)\n",
      " |-- Author: string (nullable = true)\n",
      " |-- PublicationYear: string (nullable = true)\n",
      " |-- Subjects: string (nullable = true)\n",
      " |-- Code: string (nullable = true)\n",
      " |-- Description: string (nullable = true)\n",
      " |-- Code Type: string (nullable = true)\n",
      " |-- Format Group: string (nullable = true)\n",
      " |-- Format Subgroup: string (nullable = true)\n",
      " |-- Category Group: string (nullable = true)\n",
      " |-- Category Subgroup: string (nullable = true)\n",
      " |-- checkout_day: string (nullable = true)\n",
      " |-- checkout_month: string (nullable = true)\n",
      " |-- checkout_year: string (nullable = true)\n",
      "\n"
     ]
    }
   ],
   "source": [
    "/* books seem to have more staying power than movies. 4 of the top 10 in 2015 were also in the top 10 in 2016 and 1 from 2016\n",
    "is in the top 10 in 2017. None of the top 10 movies overlapped*/\n",
    "master.printSchema"
   ]
  },
  {
   "cell_type": "code",
   "execution_count": 22,
   "metadata": {},
   "outputs": [
    {
     "name": "stdout",
     "output_type": "stream",
     "text": [
      "+-------------+--------------+-----+\n",
      "|checkout_year|checkout_month|count|\n",
      "+-------------+--------------+-----+\n",
      "|         2015|            01|  109|\n",
      "|         2015|            02|   77|\n",
      "|         2015|            03|  106|\n",
      "|         2015|            04|  100|\n",
      "|         2015|            05|   85|\n",
      "|         2015|            06|   88|\n",
      "|         2015|            07|  119|\n",
      "|         2015|            08|   88|\n",
      "|         2015|            09|   91|\n",
      "|         2015|            10|  137|\n",
      "|         2015|            11|  100|\n",
      "|         2015|            12|   82|\n",
      "|         2016|            01|  115|\n",
      "|         2016|            02|  116|\n",
      "|         2016|            03|  132|\n",
      "|         2016|            04|  134|\n",
      "|         2016|            05|  136|\n",
      "|         2016|            06|  179|\n",
      "|         2016|            07|  185|\n",
      "|         2016|            08|  190|\n",
      "|         2016|            09|  196|\n",
      "|         2016|            10|  201|\n",
      "|         2016|            11|  212|\n",
      "|         2016|            12|  108|\n",
      "|         2017|            01|  133|\n",
      "|         2017|            02|  112|\n",
      "|         2017|            03|  112|\n",
      "|         2017|            04|   89|\n",
      "|         2017|            05|  163|\n",
      "|         2017|            06|  163|\n",
      "|         2017|            07|  194|\n",
      "|         2017|            08|  183|\n",
      "|         2017|            09|  285|\n",
      "|         2017|            10|  222|\n",
      "+-------------+--------------+-----+\n",
      "\n"
     ]
    },
    {
     "data": {
      "text/plain": [
       "Name: Syntax Error.\n",
       "Message: \n",
       "StackTrace: "
      ]
     },
     "execution_count": 22,
     "metadata": {},
     "output_type": "execute_result"
    }
   ],
   "source": [
    "/* find the number of checkouts by month of books with \"clinton\" in the title */\n",
    "spark.sql(\"\"\"SELECT checkout_year, checkout_month, count(*) as count from master \n",
    "           WHERE `Format Subgroup`='Book' and LOWER(title) LIKE '%clinton%' \n",
    "           GROUP BY checkout_year, checkout_month\n",
    "           ORDER BY checkout_year, checkout_month \"\"\").show(50, 100)\n",
    "/* we see a large jump in the popularity of books about the Clinton's in 2016 which is probably mainly due to \n",
    "2 factors that feed each other: the 2016 election led to a boost in interest and the boost in interest led to \n",
    "a boost in publications which led to more interest...\n",
    "with more time I would look into the publication years, months of each of the books containing \"clinton\" and get a \n",
    "more granular view of the checkout patterns for each book and how it maps to real world events\n",
    "\n",
    "I think this project has turned into a scattered data exploration where more questions are created than answered :) */"
   ]
  },
  {
   "cell_type": "code",
   "execution_count": 23,
   "metadata": {},
   "outputs": [
    {
     "name": "stdout",
     "output_type": "stream",
     "text": [
      "\r",
      "                                                                                \r",
      "+-------------+--------------+-----+\n",
      "|checkout_year|checkout_month|count|\n",
      "+-------------+--------------+-----+\n",
      "|         2015|            01|  134|\n",
      "|         2015|            02|  111|\n",
      "|         2015|            03|  131|\n",
      "|         2015|            04|  115|\n",
      "|         2015|            05|  118|\n",
      "|         2015|            06|   98|\n",
      "|         2015|            07|  131|\n",
      "|         2015|            08|  146|\n",
      "|         2015|            09|  130|\n",
      "|         2015|            10|  131|\n",
      "|         2015|            11|  178|\n",
      "|         2015|            12|  169|\n",
      "|         2016|            01|  161|\n",
      "|         2016|            02|  160|\n",
      "|         2016|            03|  166|\n",
      "|         2016|            04|  159|\n",
      "|         2016|            05|  168|\n",
      "|         2016|            06|  165|\n",
      "|         2016|            07|  222|\n",
      "|         2016|            08|  235|\n",
      "|         2016|            09|  207|\n",
      "|         2016|            10|  227|\n",
      "|         2016|            11|  255|\n",
      "|         2016|            12|  217|\n",
      "|         2017|            01|  227|\n",
      "|         2017|            02|  224|\n",
      "|         2017|            03|  275|\n",
      "|         2017|            04|  268|\n",
      "|         2017|            05|  287|\n",
      "|         2017|            06|  267|\n",
      "|         2017|            07|  303|\n",
      "|         2017|            08|  345|\n",
      "|         2017|            09|  311|\n",
      "|         2017|            10|  202|\n",
      "+-------------+--------------+-----+\n",
      "\n"
     ]
    },
    {
     "data": {
      "text/plain": [
       "Name: Syntax Error.\n",
       "Message: \n",
       "StackTrace: "
      ]
     },
     "execution_count": 23,
     "metadata": {},
     "output_type": "execute_result"
    }
   ],
   "source": [
    "/* find the number of checkouts by month of books with \"trump\" in the title */\n",
    "spark.sql(\"\"\"SELECT checkout_year, checkout_month, count(*) as count from master \n",
    "           WHERE `Format Subgroup`='Book' and LOWER(title) LIKE '%trump%' \n",
    "           GROUP BY checkout_year, checkout_month\n",
    "           ORDER BY checkout_year, checkout_month \"\"\").show(50, 100)\n",
    "\n",
    "/* again we see a growth in popularity in trump books as the 2016 election approaches and continued popularity afterwards.\n",
    "Similarly to Clinton this is probably due to more interest leading to more publishing leading to more interest*/"
   ]
  },
  {
   "cell_type": "code",
   "execution_count": 25,
   "metadata": {},
   "outputs": [
    {
     "name": "stdout",
     "output_type": "stream",
     "text": [
      "+-------------------------------------------------------------------------------------------+\n",
      "|                                                                                      title|\n",
      "+-------------------------------------------------------------------------------------------+\n",
      "|                                The Ditson school and community band series; leader's book.|\n",
      "|                           Schachnovelle [sound recording] ; Der Amokläufer / Stefan Zweig.|\n",
      "|Twinkle, twinkle, little star [sound recording] / Read and sung by Iza Trapani and friends.|\n",
      "|Twinkle, twinkle, little star [sound recording] / Read and sung by Iza Trapani and friends.|\n",
      "|Twinkle, twinkle, little star [sound recording] / Read and sung by Iza Trapani and friends.|\n",
      "|Twinkle, twinkle, little star [sound recording] / Read and sung by Iza Trapani and friends.|\n",
      "|Twinkle, twinkle, little star [sound recording] / Read and sung by Iza Trapani and friends.|\n",
      "|Twinkle, twinkle, little star [sound recording] / Read and sung by Iza Trapani and friends.|\n",
      "|Twinkle, twinkle, little star [sound recording] / Read and sung by Iza Trapani and friends.|\n",
      "|Twinkle, twinkle, little star [sound recording] / Read and sung by Iza Trapani and friends.|\n",
      "|Twinkle, twinkle, little star [sound recording] / Read and sung by Iza Trapani and friends.|\n",
      "|Twinkle, twinkle, little star [sound recording] / Read and sung by Iza Trapani and friends.|\n",
      "|Twinkle, twinkle, little star [sound recording] / Read and sung by Iza Trapani and friends.|\n",
      "|                                               Can't take me home [sound recording] / P!nk.|\n",
      "|                                               Can't take me home [sound recording] / P!nk.|\n",
      "|                                               Can't take me home [sound recording] / P!nk.|\n",
      "|                                               Can't take me home [sound recording] / P!nk.|\n",
      "|                                               Can't take me home [sound recording] / P!nk.|\n",
      "+-------------------------------------------------------------------------------------------+\n",
      "\n",
      "+-------------+--------------+--------+                                         \n",
      "|checkout_year|checkout_month|count(1)|\n",
      "+-------------+--------------+--------+\n",
      "|         2015|            12|  503306|\n",
      "|         2015|            11|  533774|\n",
      "|         2015|            10|  550807|\n",
      "|         2015|            09|  548736|\n",
      "|         2015|            08|  573875|\n",
      "|         2015|            07|  574008|\n",
      "|         2015|            06|  469903|\n",
      "|         2015|            05|  526002|\n",
      "|         2015|            04|  547994|\n",
      "|         2015|            03|  583306|\n",
      "|         2015|            02|  513402|\n",
      "|         2015|            01|  568823|\n",
      "|         2016|            12|  488603|\n",
      "|         2016|            11|  509873|\n",
      "|         2016|            10|  483990|\n",
      "|         2016|            09|  509602|\n",
      "|         2016|            08|  528366|\n",
      "|         2016|            07|  533876|\n",
      "|         2016|            06|  524420|\n",
      "|         2016|            05|  510254|\n",
      "|         2016|            04|  516244|\n",
      "|         2016|            03|  556733|\n",
      "|         2016|            02|  515295|\n",
      "|         2016|            01|  560086|\n",
      "|         2017|            10|  296879|\n",
      "|         2017|            09|  500779|\n",
      "|         2017|            08|  536909|\n",
      "|         2017|            07|  543074|\n",
      "|         2017|            06|  504775|\n",
      "|         2017|            05|  494616|\n",
      "|         2017|            04|  505036|\n",
      "|         2017|            03|  534505|\n",
      "|         2017|            02|  474791|\n",
      "|         2017|            01|  525272|\n",
      "+-------------+--------------+--------+\n",
      "\n"
     ]
    }
   ],
   "source": [
    "/* find out what is going on with the audio tape checkouts. Do people have cassette players anymore? */\n",
    "spark.sql(\"SELECT title FROM master WHERE `Format Subgroup` = 'Audio Tape'\").show(20,100)\n",
    "\n",
    "\n",
    "/* see if the popularity of the library is changing over time */\n",
    "spark.sql(\"\"\"SELECT checkout_year, checkout_month, count(*) \n",
    "             FROM master \n",
    "             GROUP BY checkout_year, checkout_month\n",
    "             ORDER BY checkout_year, checkout_month DESC\"\"\").show(50,100)"
   ]
  },
  {
   "cell_type": "code",
   "execution_count": 10,
   "metadata": {
    "collapsed": true
   },
   "outputs": [],
   "source": [
    "/* save master dataframe as csv */\n",
    "master.write.format(\"csv\").save(\"file:///data/SeattleLibData\")"
   ]
  }
 ],
 "metadata": {
  "kernelspec": {
   "display_name": "Apache Toree - Scala",
   "language": "scala",
   "name": "apache_toree_scala"
  },
  "language_info": {
   "file_extension": ".scala",
   "name": "scala",
   "version": "2.11.8"
  }
 },
 "nbformat": 4,
 "nbformat_minor": 2
}
